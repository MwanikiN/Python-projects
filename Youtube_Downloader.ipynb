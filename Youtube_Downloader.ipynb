{
  "nbformat": 4,
  "nbformat_minor": 0,
  "metadata": {
    "colab": {
      "name": "Youtube Downloader.ipynb",
      "private_outputs": true,
      "provenance": []
    },
    "kernelspec": {
      "name": "python3",
      "display_name": "Python 3"
    },
    "language_info": {
      "name": "python"
    }
  },
  "cells": [
    {
      "cell_type": "code",
      "execution_count": null,
      "metadata": {
        "id": "56JET961kBGV"
      },
      "outputs": [],
      "source": [
        "#Install the necessary packages\n",
        "#pip install pytube3"
      ]
    },
    {
      "cell_type": "code",
      "source": [
        "#upgrade pytube for compatibility\n",
        "#pip install --upgrade pytube"
      ],
      "metadata": {
        "id": "9WOSbHAxnNvw"
      },
      "execution_count": null,
      "outputs": []
    },
    {
      "cell_type": "code",
      "source": [
        "from pytube import YouTube "
      ],
      "metadata": {
        "id": "b6DpfutDkNET"
      },
      "execution_count": null,
      "outputs": []
    },
    {
      "cell_type": "code",
      "source": [
        "link = input(\"Enter the intended url: \")\n",
        "yt = YouTube(link)"
      ],
      "metadata": {
        "id": "yjnct4M-kfrz"
      },
      "execution_count": null,
      "outputs": []
    },
    {
      "cell_type": "code",
      "source": [
        "#Checking the details \n",
        "print(\"Title: \",yt.title)\n",
        "print(\"Number of views: \",yt.views)\n",
        "print(\"Duration: \",yt.length, \"Seconds\")\n",
        "print(\"Description: \",yt.description)\n",
        "print(\"Ratings: \",yt.rating)"
      ],
      "metadata": {
        "id": "bTb_lg7qokfe"
      },
      "execution_count": null,
      "outputs": []
    },
    {
      "cell_type": "code",
      "source": [
        "print(yt.streams)"
      ],
      "metadata": {
        "id": "nkLVkrqPqhFR"
      },
      "execution_count": null,
      "outputs": []
    },
    {
      "cell_type": "code",
      "source": [
        "print(yt.streams.filter(only_audio=True))"
      ],
      "metadata": {
        "id": "G7RFVf_0rVjC"
      },
      "execution_count": null,
      "outputs": []
    },
    {
      "cell_type": "code",
      "source": [
        "print(yt.streams.filter(only_video=True))"
      ],
      "metadata": {
        "id": "jpHkZH_hsHjN"
      },
      "execution_count": null,
      "outputs": []
    },
    {
      "cell_type": "code",
      "source": [
        "print(yt.streams.filter(progressive=True))"
      ],
      "metadata": {
        "id": "73ksjB45sO2e"
      },
      "execution_count": null,
      "outputs": []
    },
    {
      "cell_type": "code",
      "source": [
        "ys =yt.streams.get_highest_resolution()\n",
        "ys"
      ],
      "metadata": {
        "id": "c4X061cmszMa"
      },
      "execution_count": null,
      "outputs": []
    },
    {
      "cell_type": "code",
      "source": [
        "#Alternate way of fetching the preferred stream\n",
        "ys=yt.streams.get_by_itag('22')"
      ],
      "metadata": {
        "id": "AfGyRKimtHcb"
      },
      "execution_count": null,
      "outputs": []
    },
    {
      "cell_type": "code",
      "source": [
        "print(\"Downloading...\")\n",
        "ys.download('Downloads')\n",
        "print(\"Download completed!!\")"
      ],
      "metadata": {
        "id": "yhS-6uqRt4YR"
      },
      "execution_count": null,
      "outputs": []
    },
    {
      "cell_type": "code",
      "source": [
        ""
      ],
      "metadata": {
        "id": "38Wl2ZBWulTS"
      },
      "execution_count": null,
      "outputs": []
    }
  ]
}